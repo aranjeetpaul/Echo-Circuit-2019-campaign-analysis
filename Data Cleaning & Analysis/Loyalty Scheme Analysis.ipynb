{
 "cells": [
  {
   "cell_type": "markdown",
   "id": "2040df1f-9f85-4a0d-8bc9-9d38990c296d",
   "metadata": {},
   "source": [
    "# Loyalty Scheme Analysis\n",
    "\n",
    "## Table of Contents\n",
    "1. [Introduction](#1.-Introduction)\n",
    "2. [Data Loading](#2.-Data-Loading)\n",
    "4. [Exploratory Data Analysis (EDA)](#3.-Exploratory-Data-Analysis-(EDA))\n",
    "5. [Hypothesis Testing](#4.-Hypothesis-Testing)\n",
    "6. [Conclusions](#5.-Conclusions)"
   ]
  },
  {
   "cell_type": "markdown",
   "id": "cc724e03-38ba-4afe-84ed-ddad9df51a14",
   "metadata": {},
   "source": [
    "---\n",
    "\n",
    "## 1. Introduction\n",
    "**Purpose:** The purpose of this notebook is to analyse Echo Circuit's loyalty scheme purchases, focusing on determining whether purchases made with a loyalty memebrship and purchases made without a loyalty memebrship exhibit similar transaction value distributions. Therefore, revealing insights into loyalty members' behaviour.\n",
    "\n",
    "This analysis is part of my analysis of Echo Circuit's 2019 sales performance. For the complete report please read the [README.md](https://github.com/aranjeetpaul/Echo-Circuit-2019-sales-analysis/blob/main/README.md) from my Github repository.\n",
    "\n",
    "**Dataset Overview**: This project uses the `cleaned_data.xlsx` dataset which can be found [here](https://github.com/aranjeetpaul/Echo-Circuit-2019-sales-analysis/blob/main/Data/cleaned_data.xlsx). This dataset contains individual order records, including order value, loyalty status, month of order, region of purchase, etc. Original raw data can be found [here](https://github.com/aranjeetpaul/Echo-Circuit-2019-sales-analysis/blob/main/Data/raw_data.xlsx) and SAS/SQL code used to clean it can be found [here](https://github.com/aranjeetpaul/Echo-Circuit-2019-sales-analysis/blob/main/Data%20Cleaning%20%26%20Analysis/Data%20Cleaning.sas)."
   ]
  },
  {
   "cell_type": "markdown",
   "id": "bfa89f7d-a4b5-4f3e-be84-8f119c0727da",
   "metadata": {},
   "source": [
    "---\n",
    "\n",
    "## 2. Data Loading\n",
    "Load the `cleaned_data.xlsx` dataset. Then create tables required for analysis:\n",
    "- `loyalty` dataset containing values of all loyalty purchases.\n",
    "- `non-loyalty` dataset containing values of all non-loyalty purchases."
   ]
  },
  {
   "cell_type": "code",
   "execution_count": null,
   "id": "e46d70bc-69e1-4490-9cb9-cc572404d6f1",
   "metadata": {},
   "outputs": [],
   "source": [
    "# Import necessary libraries\n",
    "import numpy as np\n",
    "import pandas as pd\n",
    "import statsmodels.api as sm\n",
    "import matplotlib.pyplot as plt\n",
    "import seaborn as sns\n",
    "import math\n",
    "from scipy.stats import shapiro, kstest, levene, mannwhitneyu, skew, kurtosis\n",
    "\n",
    "# Apply the Seaborn style\n",
    "plt.style.use('seaborn-v0_8-darkgrid')"
   ]
  },
  {
   "cell_type": "markdown",
   "id": "b3870bfe-8c2a-45c7-a5e8-c28f56459841",
   "metadata": {},
   "source": [
    "### 2.1 Load Data\n",
    "\n",
    "Load `cleaned_data.xlsx` dataset."
   ]
  },
  {
   "cell_type": "code",
   "execution_count": null,
   "id": "e3294205-f418-4d37-91ee-e809cf9699f1",
   "metadata": {},
   "outputs": [],
   "source": [
    "# Load data\n",
    "df = pd.read_excel('cleaned_data.xlsx')\n",
    "# Check all rows and columns are loaded\n",
    "print(df.shape)\n",
    "df.head()"
   ]
  },
  {
   "cell_type": "markdown",
   "id": "89a0fffe-f774-4f24-997b-3379c16722fe",
   "metadata": {},
   "source": [
    "### 2.2 Create Tables Required For Analysis\n",
    "\n",
    "Create `loyalty` dataset containing values of transactions by loyalty members and `non-loyalty` datasets containing values of transactions by non-loyalty members."
   ]
  },
  {
   "cell_type": "code",
   "execution_count": null,
   "id": "6ba55666-9362-41d4-8398-858315d58e5d",
   "metadata": {},
   "outputs": [],
   "source": [
    "# Create seperate tables for the value of transactions of loyalty and no loyalty purchases\n",
    "loyalty = df[df['LOYALTY'] == 'Y']['VALUE']\n",
    "non_loyalty = df[df['LOYALTY'] == 'N']['VALUE']"
   ]
  },
  {
   "cell_type": "markdown",
   "id": "f34cacd9-d826-4302-b900-1e955c7be426",
   "metadata": {},
   "source": [
    "---\n",
    "\n",
    "## 3. Exploratory Data Analysis (EDA)\n",
    "\n",
    "Exploratory Data Analysis (EDA) provides an initial understanding of `loyalty` and `non-loyalty` datasets' underlying distributions and patterns."
   ]
  },
  {
   "cell_type": "markdown",
   "id": "dbe740be-b584-4e15-9e89-d8e991d2798e",
   "metadata": {},
   "source": [
    "### 3.1 Initial Analysis\n",
    "\n",
    "From the below analysis we see that `loyalty` and `non-loyalty` datasets are similar in count, mean, standard deviation, minimum value and quartiles. But different in maximum value, skewness and kurtosis. Suggesting the existence of outliers in the `loyalty` dataset that the `non-loyalty` dataset may not have."
   ]
  },
  {
   "cell_type": "code",
   "execution_count": null,
   "id": "137da998-ef7c-49f3-97b5-cb7f3ec411e2",
   "metadata": {},
   "outputs": [],
   "source": [
    "# Gather basic statistics of lyalty purchases\n",
    "print('Description of loyalty purchases value:')\n",
    "print(loyalty.describe())\n",
    "print('skewness:', skew(loyalty))\n",
    "print('kurtosis:', kurtosis(loyalty), '\\n')\n",
    "\n",
    "# Gather basic statistics of no lyalty purchases\n",
    "print('Description of non-loyalty purchases value:')\n",
    "print(non_loyalty.describe())\n",
    "print('skewness:', skew(non_loyalty))\n",
    "print('kurtosis:', kurtosis(non_loyalty))"
   ]
  },
  {
   "cell_type": "markdown",
   "id": "793650d3-7f1e-4d66-9093-6d8695a76ebf",
   "metadata": {},
   "source": [
    "### 3.2 Distribution Visualisation\n",
    "\n",
    "Below you can see Q-Q plots, boxplots and histograms for both `loyalty` and `non-loyalty` datasets. We can see both are highly skewed and the `loyalty` dataset have outliers with a value of over £500."
   ]
  },
  {
   "cell_type": "code",
   "execution_count": null,
   "id": "ce3ebf0b-360f-4adf-9671-8a91580fc746",
   "metadata": {},
   "outputs": [],
   "source": [
    "# Create a Q-Q plot of loyalty purchases\n",
    "sm.qqplot(loyalty, line='45')\n",
    "plt.title('Q-Q Plot of Loyalty Purchases')\n",
    "plt.show()\n",
    "# Create a Boxplot and Histogram of loyalty purchases\n",
    "f, (ax_box, ax_hist) = plt.subplots(2, sharex=True, gridspec_kw={\"height_ratios\": (.15, .85)})\n",
    "sns.boxplot(loyalty, orient=\"h\", ax=ax_box)\n",
    "sns.histplot(data=loyalty, ax=ax_hist)\n",
    "ax_box.set(xlabel='')\n",
    "ax_hist.set(xlabel='Transaction Value', ylabel='Fequency')\n",
    "plt.suptitle('Boxplot and Histogram of Loyalty Purchases')\n",
    "plt.show()\n",
    "\n",
    "# Create a Q-Q plot of no loyalty purchases\n",
    "sm.qqplot(non_loyalty, line='45')\n",
    "plt.title('Q-Q Plot of No Loyalty Purchases')\n",
    "plt.show()\n",
    "# Create a Boxplot and Histogram of loyalty purchases\n",
    "f, (ax_box, ax_hist) = plt.subplots(2, sharex=True, gridspec_kw={\"height_ratios\": (.15, .85)})\n",
    "sns.boxplot(non_loyalty, orient=\"h\", ax=ax_box)\n",
    "sns.histplot(data=non_loyalty, ax=ax_hist)\n",
    "ax_box.set(xlabel='')\n",
    "ax_hist.set(xlabel='Transaction Value', ylabel='Fequency')\n",
    "plt.suptitle('Boxplot and Histogram of Non-Loyalty Purchases')\n",
    "plt.show()"
   ]
  },
  {
   "cell_type": "markdown",
   "id": "431076f2-80d4-477b-82a4-6781d74c0a9c",
   "metadata": {},
   "source": [
    "### 3.3 Repeat Purchases of Loyalty Members\n",
    "\n",
    "Below is a table showing the number of repeat purchases of customers with a loyalty memberships. We can see most Loyalty members don't carry out repeat purchases."
   ]
  },
  {
   "cell_type": "code",
   "execution_count": null,
   "id": "4ec61e46-0c8b-444c-9e8b-3b634e084b30",
   "metadata": {},
   "outputs": [],
   "source": [
    "# Collect Loyalty ID's\n",
    "loyalty_ids = df[df['LOYALTY'] == 'Y']['LOYALTY_ID']\n",
    "# Calculate frequency table\n",
    "freq_tab = pd.DataFrame(loyalty_ids.value_counts().value_counts())\n",
    "# Rename index and column\n",
    "freq_tab = freq_tab.rename(columns={'count':'Frequency'})\n",
    "freq_tab = freq_tab.rename_axis(None, axis=0)\n",
    "# Rename index to make more sense\n",
    "freq_tab = freq_tab.rename(index={1:'No repeat purchases', 2:'1 repeat purchases', 3:'2 repeat purchases', 4:'3 repeat purchases'})\n",
    "# Calculate column containing percentage of loyalty purchases\n",
    "freq_tab['% of All Loyalty Purchases'] = (freq_tab['Frequency'] / sum(freq_tab['Frequency']))\n",
    "freq_tab['% of All Loyalty Purchases'] = freq_tab['% of All Loyalty Purchases'].map('{:.1%}'.format)\n",
    "freq_tab"
   ]
  },
  {
   "cell_type": "markdown",
   "id": "938b5382-6b76-4a88-9412-31ccd9bd9fcf",
   "metadata": {},
   "source": [
    "---\n",
    "\n",
    "## 4. Hypothesis Testing\n",
    "\n",
    "Perform hypothesis tests to compare `loyalty` and `non-loyalty` datasets."
   ]
  },
  {
   "cell_type": "markdown",
   "id": "8893d7c7-ad94-4bed-8987-9aa13f0f5849",
   "metadata": {},
   "source": [
    "### 4.1 Shapiro-Wilk Test\n",
    "\n",
    "Using the Shapiro-Wilk test below we can see that for both the `loyalty` and `non-loyalty` datasets we have sufficient evidence to say neither are normally distributed. This  result is useful for telling us about the datasets and will also be used to determine which hypothsis tests we can use later on."
   ]
  },
  {
   "cell_type": "code",
   "execution_count": null,
   "id": "18538f9d-eca7-4acd-a25d-76e5acef8b3b",
   "metadata": {},
   "outputs": [],
   "source": [
    "# Run Shapiro-Wilk test of normality for loyalty and no loyalty purchases\n",
    "sha_stat_loy, sha_pval_loy = shapiro(loyalty)\n",
    "sha_stat_non_loy, sha_pval_non_loy = shapiro(non_loyalty)\n",
    "\n",
    "# Set significane level to 0.5\n",
    "alpha = 0.05\n",
    "# Print conclusions\n",
    "if sha_pval_loy < alpha:\n",
    "    print('P-value for loyalty purchases Shapiro-Wilk test:', sha_pval_loy)\n",
    "    print('So we have sufficient evidence to say that the loyalty dataset does not come from a normal distribution.')\n",
    "else:\n",
    "    print('P-value for loyalty purchases Shapiro-Wilk test:', sha_pval_loy)\n",
    "    print('So we have insufficient evidence to say that the loyalty dataset does not come from a normal distribution.')\n",
    "\n",
    "if sha_pval_non_loy < alpha:\n",
    "    print('P-value for non-loyalty purchases Shapiro-Wilk test:', sha_pval_non_loy)\n",
    "    print('So we have sufficient evidence to say that the non-loyalty dataset does not come from a normal distribution.')\n",
    "else:\n",
    "    print('P-value for non-loyalty purchases Shapiro-Wilk test:', sha_pval_non_loy)\n",
    "    print('So we have insufficient evidence to say that the non-loyalty dataset does not come from a normal distribution.')\n"
   ]
  },
  {
   "cell_type": "markdown",
   "id": "7aaa4c3d-0fd4-498c-9010-ff6e28526c3b",
   "metadata": {},
   "source": [
    "### 4.2 Levene’s Test\n",
    "\n",
    "Using the Levene’s test below we can see that we have insufficient evidence to say that the variances of the `loyalty` and `non-loyalty` datasets are significantly different."
   ]
  },
  {
   "cell_type": "code",
   "execution_count": null,
   "id": "5c9790f9-627e-43d8-b0c4-31f84e7c7a85",
   "metadata": {},
   "outputs": [],
   "source": [
    "# Run Levene's test\n",
    "lev_stat, lev_pval = levene(loyalty, non_loyalty, center='median')\n",
    "\n",
    "# Set significane level to 0.5\n",
    "alpha = 0.05\n",
    "# Print conclusions\n",
    "if lev_pval < alpha:\n",
    "    print('P-value for Levene\\'s test:', lev_pval)\n",
    "    print('So we have sufficient evidence to say that the variances ofthe loyalty and non-loyalty datasets are significantly different.')\n",
    "else:\n",
    "    print('P-value for Levene\\'s test:', lev_pval)\n",
    "    print('So we have insufficient evidence to say that the variances of the loyalty and non-loyalty datasets are significantly different.')"
   ]
  },
  {
   "cell_type": "markdown",
   "id": "9b9a54ef-0406-4efd-8132-47032e03a11d",
   "metadata": {},
   "source": [
    "### 4.3 Mann-Whitney U Test\n",
    "\n",
    "Using the Mann-Whitney U test below we can see that we have insufficient evidence to say that the means of the `loyalty` and `non-loyalty` are significantly different."
   ]
  },
  {
   "cell_type": "code",
   "execution_count": null,
   "id": "e4dadfd9-7ea5-4bd1-840e-08d7d0bc4568",
   "metadata": {},
   "outputs": [],
   "source": [
    "# Run Mann-Whitney U Test\n",
    "mann_stat, mann_pval = mannwhitneyu(loyalty, non_loyalty)\n",
    "\n",
    "# Set significane level to 0.5\n",
    "alpha = 0.05\n",
    "# Print conclusions\n",
    "if mann_pval < alpha:\n",
    "    print('P-value for Mann-Whitney U test:', mann_pval)\n",
    "    print('So we have sufficient evidence to say that the means of the loyalty and non-loyalty datasets are significantly different.')\n",
    "else:\n",
    "    print('P-value for Mann-Whitney U test:', mann_pval)\n",
    "    print('So we have insufficient evidence to say that the means of the loyalty and non-loyalty datasets are significantly different.')"
   ]
  },
  {
   "cell_type": "markdown",
   "id": "1cc079d3-7d01-4cab-8abf-1b84bbbba1fc",
   "metadata": {},
   "source": [
    "---\n",
    "\n",
    "## 5. Conclusions\n",
    "\n",
    "From the above analysis, we can draw 2 main conclusions:\n",
    "\n",
    "- Most loyalty members don't carry out repeat purchases.\n",
    "- Both loyalty and non-loyalty members exhibit similar behaviours.\n",
    "\n",
    "Unfortnately, this suggests Echo Circuits loyalty scheme is a failure in encouraging sales growth.\n",
    "\n",
    "For a complete report of Echo Circuit's 2019 sale performance, please read the [README.md](https://github.com/aranjeetpaul/Echo-Circuit-2019-sales-analysis/blob/main/README.md) from my Github repository."
   ]
  }
 ],
 "metadata": {
  "kernelspec": {
   "display_name": "Python [conda env:base] *",
   "language": "python",
   "name": "conda-base-py"
  },
  "language_info": {
   "codemirror_mode": {
    "name": "ipython",
    "version": 3
   },
   "file_extension": ".py",
   "mimetype": "text/x-python",
   "name": "python",
   "nbconvert_exporter": "python",
   "pygments_lexer": "ipython3",
   "version": "3.13.5"
  }
 },
 "nbformat": 4,
 "nbformat_minor": 5
}
